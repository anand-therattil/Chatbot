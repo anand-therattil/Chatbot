{
  "nbformat": 4,
  "nbformat_minor": 0,
  "metadata": {
    "colab": {
      "provenance": [],
      "authorship_tag": "ABX9TyP00cA9B1HhWzHsFLKM/bNe",
      "include_colab_link": true
    },
    "kernelspec": {
      "name": "python3",
      "display_name": "Python 3"
    },
    "language_info": {
      "name": "python"
    }
  },
  "cells": [
    {
      "cell_type": "markdown",
      "metadata": {
        "id": "view-in-github",
        "colab_type": "text"
      },
      "source": [
        "<a href=\"https://colab.research.google.com/github/anand-therattil/Chatbot/blob/main/Rule_based_chatbot.ipynb\" target=\"_parent\"><img src=\"https://colab.research.google.com/assets/colab-badge.svg\" alt=\"Open In Colab\"/></a>"
      ]
    },
    {
      "cell_type": "code",
      "source": [
        "import re\n",
        "import random"
      ],
      "metadata": {
        "id": "mAY8MKWJqbgR"
      },
      "execution_count": 1,
      "outputs": []
    },
    {
      "cell_type": "code",
      "source": [
        "class RuleBot:\n",
        "  ## Potnetial Negative Respsonse\n",
        "  negative_responses= (\"no\",\"nope\",\"nah\",\"not a chance\",\"sorry\")\n",
        "  ## Exit Conversation\n",
        "  exit_commands = (\"quit\",\"pause\",\"exit\",\"bye\",\"goodbye\",\"later\")\n",
        "  # Random starter questions\n",
        "  random_questions = (\n",
        "      \"why are you here?\",\n",
        "      \"How did you get here?\"\n",
        "      \"Have I met you somewhere?\",\n",
        "      \"Quick question did you know I am batman\",\n",
        "  )\n",
        "  def __init__(self):\n",
        "    self.QA = {\n",
        "        'describe_you':r'.*\\s*your do',\n",
        "        'answer_why':r'why\\sare.*',\n",
        "        'about_me':r'.*\\s*me'\n",
        "    }\n",
        "\n",
        "  def greet(self):\n",
        "    self.name = input(\"This is Strict Stick Man (SSM) \\n Could I Have your Name\")\n",
        "    will_learn=input(\n",
        "        f'Hello Dear {self.name}, Are you here to learn abiut me?'\n",
        "    )\n",
        "    if will_learn in self.negative_responses:\n",
        "      print(\"Ok, Missing an Oppurtunity Bye!!!\")\n",
        "      return\n",
        "    self.chat()\n",
        "\n",
        "  def make_exit(self,reply):\n",
        "    for command in self.exit_commands:\n",
        "      if reply in command:\n",
        "        print(\"Happy talking to you \\n Nikal na bhai ab!!\")\n",
        "        return True\n",
        "\n",
        "  def chat(self):\n",
        "    reply = input(random.choice(self.random_questions))\n",
        "    while not self.make_exit(reply):\n",
        "      reply =input(self.match_reply(reply))\n",
        "\n",
        "  def match_reply(self,reply):\n",
        "    for key,value in self.QA.items():\n",
        "      intent= key\n",
        "      regex_pattern = value\n",
        "      found_match=re.match(regex_pattern,reply)\n",
        "      if found_match and intent == 'describe_you':\n",
        "        return self.describe_you()\n",
        "      elif found_match and intent =='answer_why':\n",
        "        return self.answer_why()\n",
        "      elif found_match and intent =='about_me':\n",
        "        return self.about_me()\n",
        "    if not found_match:\n",
        "      return self.no_match()\n",
        "\n",
        "  def describe_you(self):\n",
        "    responses = (\n",
        "        \"I'm batman!!\",\n",
        "        \"I'm the one who knocks!!\",\n",
        "        'Yipeeka ya M*****F****',\n",
        "        )\n",
        "    return random.choice(responses)\n",
        "\n",
        "  def about_me(self):\n",
        "    responses = (\n",
        "        \"Nice to see someone intreseted!!\\n I won't kill you but I will make you stronger\",\n",
        "        \"I make crystal Meth\\n If you want some contact my dealer however I cam assure you of its purity!!\",\n",
        "        'I have survived hijacks, plane crash, cyber attacks I am Bruce Wills',\n",
        "        )\n",
        "    return random.choice(responses)\n",
        "\n",
        "  def answer_why(self):\n",
        "    responses = (\n",
        "        \"Why do what i have to do to keep peace!! \",\n",
        "        \"Need to make money for treating cancer\",\n",
        "        'Attractes Bad people',\n",
        "        )\n",
        "    return random.choice(responses)\n",
        "\n",
        "  def no_match(self):\n",
        "    responses = (\n",
        "        \"Intreseted!!\\n Nice \\n Tell me more about it  \",\n",
        "        \"Need to make money for treating cancer\",\n",
        "        'Attractes Bad people',\n",
        "        )\n",
        "    return random.choice(responses)\n",
        ""
      ],
      "metadata": {
        "id": "gfLjvSyeqn8V"
      },
      "execution_count": 6,
      "outputs": []
    },
    {
      "cell_type": "code",
      "source": [
        "Me = RuleBot()\n",
        "Me.greet()"
      ],
      "metadata": {
        "colab": {
          "base_uri": "https://localhost:8080/"
        },
        "id": "NlvU6t1M4stH",
        "outputId": "19071112-e871-490a-c7c9-3f4dddf2396a"
      },
      "execution_count": 7,
      "outputs": [
        {
          "output_type": "stream",
          "name": "stdout",
          "text": [
            "This is Strict Stick Man (SSM) \n",
            " Could I Have your Namejh\n",
            "Hello Dear jh, Are you here to learn abiut me?j;l\n",
            "why are you here?jjk\n",
            "Intreseted!!\n",
            " Nice \n",
            " Tell me more about it  ll\n",
            "Intreseted!!\n",
            " Nice \n",
            " Tell me more about it  jj\n",
            "Attractes Bad peoplebye\n",
            "Happy talking to you \n",
            " Nikal na bhai ab!!\n"
          ]
        }
      ]
    }
  ]
}